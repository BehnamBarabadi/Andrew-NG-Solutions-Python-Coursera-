{
 "cells": [
  {
   "cell_type": "markdown",
   "metadata": {},
   "source": [
    "# HW5:  Neural Networks\n",
    "\n",
    "## Introduction\n",
    "\n",
    "In this exercise, you will implement the backpropagation algorithm for neural networks and apply it to the task of hand-written digit recognition. "
   ]
  },
  {
   "cell_type": "code",
   "execution_count": 1,
   "metadata": {},
   "outputs": [
    {
     "data": {
      "text/html": [
       "<style>.container { width:90% !important; }</style>"
      ],
      "text/plain": [
       "<IPython.core.display.HTML object>"
      ]
     },
     "metadata": {},
     "output_type": "display_data"
    }
   ],
   "source": [
    "from IPython.core.display import display, HTML\n",
    "display(HTML(\"<style>.container { width:90% !important; }</style>\"))"
   ]
  },
  {
   "cell_type": "code",
   "execution_count": 2,
   "metadata": {},
   "outputs": [],
   "source": [
    "# used for manipulating directory paths\n",
    "import os\n",
    "\n",
    "# Scientific and vector computation for python\n",
    "import numpy as np\n",
    "\n",
    "# Plotting library\n",
    "import matplotlib.pyplot as plt\n",
    "\n",
    "# Optimization module in scipy\n",
    "from scipy import optimize\n",
    "\n",
    "# will be used to load MATLAB mat datafile format\n",
    "from scipy.io import loadmat\n",
    "\n",
    "# tells matplotlib to embed plots within the notebook\n",
    "%matplotlib inline\n",
    "\n",
    "import scipy.io as scio"
   ]
  },
  {
   "cell_type": "markdown",
   "metadata": {},
   "source": [
    "We start the exercise by first loading the dataset. "
   ]
  },
  {
   "cell_type": "code",
   "execution_count": 3,
   "metadata": {},
   "outputs": [],
   "source": [
    "#  training data stored in arrays X, y\n",
    "data = loadmat(os.path.join('Data',  r'C:\\Users\\Behnam\\Downloads\\Python\\Datasets\\ML_HW5\\ex5data1.mat'))\n",
    "X = data['X']\n",
    "y = data['y'].flatten()\n",
    "\n",
    "# Number of training examples\n",
    "m = y.size"
   ]
  },
  {
   "cell_type": "markdown",
   "metadata": {},
   "source": [
    "### 1.1 Visualizing the data\n",
    "\n",
    "You will begin by visualizing a subset of the training set, using the function `display_data`. \n",
    "\n",
    "There are 5000 training examples in `ex5data1.mat`, where each training example is a 20 pixel by 20 pixel grayscale image of the digit. Each pixel is represented by a floating point number indicating the grayscale intensity at that location. The 20 by 20 grid of pixels is “unrolled” into a 400-dimensional vector. Each\n",
    "of these training examples becomes a single row in our data matrix $X$. This gives us a 5000 by 400 matrix $X$ where every row is a training example for a handwritten digit image.\n",
    "\n",
    "$$ X = \\begin{bmatrix} - \\left(x^{(1)} \\right)^T - \\\\\n",
    "- \\left(x^{(2)} \\right)^T - \\\\\n",
    "\\vdots \\\\\n",
    "- \\left(x^{(m)} \\right)^T - \\\\\n",
    "\\end{bmatrix}\n",
    "$$\n",
    "\n",
    "The second part of the training set is a 5000-dimensional vector `y` that contains labels for the training set. \n",
    "The following cell randomly selects 100 images from the dataset and plots them."
   ]
  },
  {
   "cell_type": "code",
   "execution_count": 4,
   "metadata": {},
   "outputs": [],
   "source": [
    "def display_data(x):\n",
    "    (m, n) = x.shape\n",
    "\n",
    "    # Set example_width automatically if not passed in\n",
    "    example_width = np.round(np.sqrt(n)).astype(int)\n",
    "    example_height = (n / example_width).astype(int)\n",
    "\n",
    "    # Compute the number of items to display\n",
    "    display_rows = np.floor(np.sqrt(m)).astype(int)\n",
    "    display_cols = np.ceil(m / display_rows).astype(int)\n",
    "\n",
    "    # Between images padding\n",
    "    pad = 1\n",
    "\n",
    "    # Setup blank display\n",
    "    display_array = - np.ones((pad + display_rows * (example_height + pad),\n",
    "                              pad + display_rows * (example_height + pad)))\n",
    "\n",
    "    # Copy each example into a patch on the display array\n",
    "    curr_ex = 0\n",
    "    for j in range(display_rows):\n",
    "        for i in range(display_cols):\n",
    "            if curr_ex > m:\n",
    "                break\n",
    "\n",
    "            # Copy the patch\n",
    "            # Get the max value of the patch\n",
    "            max_val = np.max(np.abs(x[curr_ex]))\n",
    "            display_array[pad + j * (example_height + pad) + np.arange(example_height),\n",
    "                          pad + i * (example_width + pad) + np.arange(example_width)[:, np.newaxis]] = \\\n",
    "                          x[curr_ex].reshape((example_height, example_width)) / max_val\n",
    "            curr_ex += 1\n",
    "\n",
    "        if curr_ex > m:\n",
    "            break\n",
    "\n",
    "    # Display image\n",
    "    plt.figure()\n",
    "    plt.imshow(display_array, cmap='gray', extent=[-1, 1, -1, 1])\n",
    "    plt.axis('off')"
   ]
  },
  {
   "cell_type": "code",
   "execution_count": null,
   "metadata": {},
   "outputs": [],
   "source": [
    " "
   ]
  },
  {
   "cell_type": "markdown",
   "metadata": {},
   "source": [
    "### 1.2 Model representation\n",
    "\n",
    "Our neural network is shown in the following figure.\n",
    "\n",
    "![](neural_network.png)\n",
    "\n",
    "It has 3 layers - an input layer, a hidden layer and an output layer. Recall that our inputs are pixel values\n",
    "of digit images. Since the images are of size $20 \\times 20$, this gives us 400 input layer units (not counting the extra bias unit which always outputs +1). The training data was loaded into the variables `X` and `y` above.\n",
    "\n",
    "You have been provided with a set of network parameters ($\\Theta^{(1)}, \\Theta^{(2)}$). These are stored in `ex5weights.mat` and will be loaded in the next cell of this notebook into `Theta1` and `Theta2`. The parameters have dimensions that are sized for a neural network with 25 units in the second layer and 10 output units (corresponding to the 10 digit classes)."
   ]
  },
  {
   "cell_type": "code",
   "execution_count": 5,
   "metadata": {},
   "outputs": [],
   "source": [
    "# Setup the parameters you will use for this exercise\n",
    "input_layer_size  = 400  # 20x20 Input Images of Digits\n",
    "hidden_layer_size = 25   # 25 hidden units\n",
    "num_labels = 10          # 10 labels, from 0 to 9\n",
    "\n",
    "# Load the weights into variables Theta1 and Theta2\n",
    "weights = loadmat(os.path.join('Data', r'C:\\Users\\Behnam\\Downloads\\Python\\Datasets\\ML_HW5\\ex5weights.mat'))\n",
    "\n",
    "# Theta1 has size 25 x 401\n",
    "# Theta2 has size 10 x 26\n",
    "Theta1, Theta2 = weights['Theta1'], weights['Theta2']\n",
    "\n",
    "# Unroll parameters \n",
    "nn_params = np.concatenate([Theta1.ravel(), Theta2.ravel()])"
   ]
  },
  {
   "cell_type": "code",
   "execution_count": 6,
   "metadata": {},
   "outputs": [
    {
     "data": {
      "text/plain": [
       "((25, 401), (10, 26), (10285,))"
      ]
     },
     "execution_count": 6,
     "metadata": {},
     "output_type": "execute_result"
    }
   ],
   "source": [
    "Theta1.shape, Theta2.shape, nn_params.shape"
   ]
  },
  {
   "cell_type": "markdown",
   "metadata": {},
   "source": [
    "- 25 neurons in hidden layer, each connected to 400 inputs + 1 bias\n",
    "\n",
    "- 10 neurons in output layer, each connected to 25 neuron in previous layer + 1 bias"
   ]
  },
  {
   "cell_type": "markdown",
   "metadata": {},
   "source": [
    "<a id=\"section1\"></a>\n",
    "### 1.3 Feedforward and cost function (15 pts)\n",
    "\n",
    "Now you will implement the cost function and gradient for the neural network. First, complete the code for the function `nnCostFunction` in the next cell to return the cost.\n",
    "\n",
    "Recall that the cost function for the neural network (without regularization) is:\n",
    "\n",
    "$$ J(\\theta) = \\frac{1}{m} \\sum_{i=1}^{m}\\sum_{k=1}^{K} \\left[ - y_k^{(i)} \\log \\left( \\left( h_\\theta \\left( x^{(i)} \\right) \\right)_k \\right) - \\left( 1 - y_k^{(i)} \\right) \\log \\left( 1 - \\left( h_\\theta \\left( x^{(i)} \\right) \\right)_k \\right) \\right]$$\n",
    "\n",
    "where $h_\\theta \\left( x^{(i)} \\right)$ is computed as shown in the neural network figure above, and K = 10 is the total number of possible labels. Note that $h_\\theta(x^{(i)})_k = a_k^{(3)}$ is the activation (output\n",
    "value) of the $k^{th}$ output unit. Also, recall that whereas the original labels (in the variable y) were 0, 1, ..., 9, for the purpose of training a neural network, we need to encode the labels as vectors containing only values 0 or 1, so that\n",
    "\n",
    "$$ y = \n",
    "\\begin{bmatrix} 1 \\\\ 0 \\\\ 0 \\\\\\vdots \\\\ 0 \\end{bmatrix}, \\quad\n",
    "\\begin{bmatrix} 0 \\\\ 1 \\\\ 0 \\\\ \\vdots \\\\ 0 \\end{bmatrix}, \\quad \\cdots  \\quad \\text{or} \\qquad\n",
    "\\begin{bmatrix} 0 \\\\ 0 \\\\ 0 \\\\ \\vdots \\\\ 1 \\end{bmatrix}.\n",
    "$$\n",
    "\n",
    "For example, if $x^{(i)}$ is an image of the digit 5, then the corresponding $y^{(i)}$ (that you should use with the cost function) should be a 10-dimensional vector with $y_5 = 1$, and the other elements equal to 0.\n",
    "\n",
    "You should implement the feedforward computation that computes $h_\\theta(x^{(i)})$ for every example $i$ and sum the cost over all examples. **Your code should also work for a dataset of any size, with any number of labels** (you can assume that there are always at least $K \\ge 3$ labels).\n",
    "\n",
    "<div class=\"alert alert-box alert-warning\">\n",
    "**Implementation Note:** The matrix $X$ contains the examples in rows (i.e., X[i,:] is the i-th training example $x^{(i)}$, expressed as a $n \\times 1$ vector.) When you complete the code in `nnCostFunction`, you will need to add the column of 1’s to the X matrix. The parameters for each unit in the neural network is represented in Theta1 and Theta2 as one row. Specifically, the first row of Theta1 corresponds to the first hidden unit in the second layer. You can use a for-loop over the examples to compute the cost.\n",
    "</div>\n",
    "<a id=\"nnCostFunction\"></a>"
   ]
  },
  {
   "cell_type": "code",
   "execution_count": 7,
   "metadata": {},
   "outputs": [],
   "source": [
    "def sigmoid(z):\n",
    "    return 1 / (1 + np.exp(-z))"
   ]
  },
  {
   "cell_type": "code",
   "execution_count": 8,
   "metadata": {},
   "outputs": [],
   "source": [
    "def nnCostFunction(nn_params,\n",
    "                   input_layer_size,\n",
    "                   hidden_layer_size,\n",
    "                   num_labels,\n",
    "                   X, y, lmd=0.0):\n",
    "    \"\"\"\n",
    "    Implements the neural network cost function and gradient for a two layer neural \n",
    "    network which performs classification. \n",
    "    \n",
    "    Parameters\n",
    "    ----------\n",
    "    nn_params : array_like\n",
    "        The parameters for the neural network which are \"unrolled\" into \n",
    "        a vector. This needs to be converted back into the weight matrices Theta1\n",
    "        and Theta2.\n",
    "    \n",
    "    input_layer_size : int\n",
    "        Number of features for the input layer. \n",
    "    \n",
    "    hidden_layer_size : int\n",
    "        Number of hidden units in the second layer.\n",
    "    \n",
    "    num_labels : int\n",
    "        Total number of labels, or equivalently number of units in output layer. \n",
    "    \n",
    "    X : array_like\n",
    "        Input dataset. A matrix of shape (m x input_layer_size).\n",
    "    \n",
    "    y : array_like\n",
    "        Dataset labels. A vector of shape (m,).\n",
    "    \n",
    "    lambda_ : float, optional\n",
    "        Regularization parameter.\n",
    " \n",
    "    Returns\n",
    "    -------\n",
    "    J : float\n",
    "        The computed value for the cost function at the current weight values.\n",
    "    \n",
    "    grad : array_like\n",
    "        An \"unrolled\" vector of the partial derivatives of the concatenatation of\n",
    "        neural network weights Theta1 and Theta2.\n",
    "    \n",
    "    Instructions\n",
    "    ------------\n",
    "    You should complete the code by working through the following parts.\n",
    "    \n",
    "    - Part 1: Feedforward the neural network and return the cost in the \n",
    "              variable J. After implementing Part 1, you can verify that your\n",
    "              cost function computation is correct by verifying the cost\n",
    "              computed in the following cell.\n",
    "    \n",
    "    - Part 2: Implement the backpropagation algorithm to compute the gradients\n",
    "              Theta1_grad and Theta2_grad. You should return the partial derivatives of\n",
    "              the cost function with respect to Theta1 and Theta2 in Theta1_grad and\n",
    "              Theta2_grad, respectively. After implementing Part 2, you can check\n",
    "              that your implementation is correct by running checkNNGradients provided\n",
    "              in the utils.py module.\n",
    "    \n",
    "              Note: The vector y passed into the function is a vector of labels\n",
    "                    containing values from 0..K-1. You need to map this vector into a \n",
    "                    binary vector of 1's and 0's to be used with the neural network\n",
    "                    cost function.\n",
    "     \n",
    "              Hint: We recommend implementing backpropagation using a for-loop\n",
    "                    over the training examples if you are implementing it for the \n",
    "                    first time.\n",
    "    \n",
    "    - Part 3: Implement regularization with the cost function and gradients.\n",
    "    \n",
    "              Hint: You can implement this around the code for\n",
    "                    backpropagation. That is, you can compute the gradients for\n",
    "                    the regularization separately and then add them to Theta1_grad\n",
    "                    and Theta2_grad from Part 2.\n",
    "        \n",
    "    \"\"\"\n",
    "    theta1 = nn_params[:hidden_layer_size * (input_layer_size + 1)].reshape(hidden_layer_size, input_layer_size + 1)# 25 x 401\n",
    "    theta2 = nn_params[hidden_layer_size * (input_layer_size + 1):].reshape(num_labels, hidden_layer_size + 1) # 10 x 26\n",
    "    # Useful value\n",
    "    m = y.size\n",
    "    J = 0\n",
    "    # Initialize gradient parameters\n",
    "    theta1_grad = np.zeros(theta1.shape)  # 25 x 401\n",
    "    theta2_grad = np.zeros(theta2.shape)  # 10 x 26  \n",
    "#     # ===================== Your Code Here =====================\n",
    "   \n",
    "    Y = np.zeros((m, num_labels)) # Neural network hypothesis function result dimension is: 5000 x 10\n",
    "    # You need to return the following variables correctly\n",
    "    \n",
    "    theta1_reg = theta1[:, 1:] # Regularization parameters are used, dimension: 25 x 400\n",
    "    theta2_reg = theta2[:, 1:] # Regularization parameters are used, dimension: 10 * 25\n",
    "    \n",
    "    for i in range(m):\n",
    "        Y[i, y[i]-1] = 1 # Convert (5000,) vectors to (5000, 10) matrices\n",
    "    #Y = pd.get_dummies(y.ravel()).as_matrix()\n",
    "    \n",
    "    # Forward propagation false calculation process\n",
    "    \n",
    "    A1 = np.c_[np.ones(m), X] # adds a column of 1 as the first column (5000 x 401)\n",
    "    Z2 = np.dot(A1, theta1.T) # (5000 x 401) . (25 x 401)T = (5000 x 25)\n",
    "    A2 = np.c_[np.ones(m), sigmoid(Z2)] # adds a column of 1 as the first column (5000 x 26) \n",
    "    Z3 = np.dot(A2, theta2.T) # (5000 x 26)  . \n",
    "    hythesis = sigmoid(Z3)\n",
    "\n",
    "\t# function\n",
    "    J = np.sum(-Y * np.log(hythesis) - (1 - Y) * np.log(1 - hythesis)) / m \\\n",
    "    + (lmd / (2 * m)) * (np.sum(theta1_reg * theta1_reg) + np.sum(theta2_reg * theta2_reg))\n",
    "    \n",
    "\n",
    "\t# Calculate output layer error and hidden layer error\n",
    "    delta3 = hythesis - Y # 5000 x 10\n",
    "    delta2 = np.dot(delta3, theta2) * (A2 * (1 - A2)) # 5000 x 26\n",
    "    delta2 = delta2[:, 1:] # 5000 x 25 Removing bias\n",
    "    \n",
    "    # Update gradient parameters\n",
    "    theta1_grad = np.dot(delta2.T, A1) / m # 25 * 401 Theta1 gradient parameter is the transpose of the hidden layer error multiplied by A1 divided by the number of training samples\n",
    "    theta2_grad = np.dot(delta3.T, A2) / m # 10 * 26 Theta2 gradient parameter is the transposition of the output layer error multiplied by A2 divided by the number of training samples\n",
    "    \n",
    "\t# gradient parameter regularization part\n",
    "\t# gradient parameter does not update the bias bias parameter, so the theta part of theta1 and theta2 is set to 0\n",
    "    p1 = (lmd/m) * np.c_[np.zeros(hidden_layer_size), theta1_reg] # 26 * 401\n",
    "    p2 = (lmd/m) * np.c_[np.zeros(num_labels), theta2_reg] # 10 * 26\n",
    "    \n",
    "    # Update gradient\n",
    "    theta1_grad = p1 + theta1_grad\n",
    "    theta2_grad = p2 + theta2_grad\n",
    "    \n",
    "\n",
    "    # ================================================================\n",
    "    # Unroll gradients\n",
    "    grad = np.concatenate([theta1_grad.ravel(), theta2_grad.ravel()])\n",
    "\n",
    "    return J, grad"
   ]
  },
  {
   "cell_type": "markdown",
   "metadata": {},
   "source": [
    "<div class=\"alert alert-box alert-warning\">\n",
    "Use the following links to go back to the different parts of this exercise that require to modify the function `nnCostFunction`.<br>\n",
    "\n",
    "Back to:\n",
    "- [Feedforward and cost function](#section1)\n",
    "- [Regularized cost](#section2)\n",
    "- [Neural Network Gradient (Backpropagation)](#section4)\n",
    "- [Regularized Gradient](#section5)\n",
    "</div>"
   ]
  },
  {
   "cell_type": "markdown",
   "metadata": {},
   "source": [
    "Once you are done, call your `nnCostFunction` using the loaded set of parameters for `Theta1` and `Theta2`. "
   ]
  },
  {
   "cell_type": "code",
   "execution_count": 9,
   "metadata": {},
   "outputs": [
    {
     "name": "stdout",
     "output_type": "stream",
     "text": [
      "Cost at parameters (loaded from ex5weights): 0.287629 \n"
     ]
    }
   ],
   "source": [
    "lambda_ = 0\n",
    "J, _ = nnCostFunction(nn_params, input_layer_size, hidden_layer_size,\n",
    "                   num_labels, X, y, lambda_)\n",
    "print('Cost at parameters (loaded from ex5weights): %.6f ' % J)"
   ]
  },
  {
   "cell_type": "markdown",
   "metadata": {},
   "source": [
    "<a id=\"section2\"></a>\n",
    "### 1.4 Regularized cost function (10 pts)\n",
    "\n",
    "The cost function for neural networks with regularization is given by:\n",
    "\n",
    "\n",
    "$$ J(\\theta) = \\frac{1}{m} \\sum_{i=1}^{m}\\sum_{k=1}^{K} \\left[ - y_k^{(i)} \\log \\left( \\left( h_\\theta \\left( x^{(i)} \\right) \\right)_k \\right) - \\left( 1 - y_k^{(i)} \\right) \\log \\left( 1 - \\left( h_\\theta \\left( x^{(i)} \\right) \\right)_k \\right) \\right] + \\frac{\\lambda}{2 m} \\left[ \\sum_{j=1}^{25} \\sum_{k=1}^{400} \\left( \\Theta_{j,k}^{(1)} \\right)^2 + \\sum_{j=1}^{10} \\sum_{k=1}^{25} \\left( \\Theta_{j,k}^{(2)} \\right)^2 \\right] $$\n",
    "\n",
    "You can assume that the neural network will only have 3 layers - an input layer, a hidden layer and an output layer. However, your code should work for any number of input units, hidden units and outputs units. While we\n",
    "have explicitly listed the indices above for $\\Theta^{(1)}$ and $\\Theta^{(2)}$ for clarity, do note that your code should in general work with $\\Theta^{(1)}$ and $\\Theta^{(2)}$ of any size. Note that you should not be regularizing the terms that correspond to the bias. For the matrices `Theta1` and `Theta2`, this corresponds to the first column of each matrix. You should now add regularization to your cost function. Notice that you can first compute the unregularized cost function $J$ using your existing `nnCostFunction` and then later add the cost for the regularization terms.\n",
    "\n",
    "[Click here to go back to `nnCostFunction` for editing.](#nnCostFunction)"
   ]
  },
  {
   "cell_type": "markdown",
   "metadata": {},
   "source": [
    "Once you are done, the next cell will call your `nnCostFunction` using the loaded set of parameters for `Theta1` and `Theta2`, and $\\lambda = 1$. "
   ]
  },
  {
   "cell_type": "code",
   "execution_count": 10,
   "metadata": {},
   "outputs": [
    {
     "name": "stdout",
     "output_type": "stream",
     "text": [
      "Cost at parameters (loaded from ex5weights): 0.383770\n"
     ]
    }
   ],
   "source": [
    "# Weight regularization parameter (we set this to 1 here).\n",
    "lambda_ = 1\n",
    "J, _ = nnCostFunction(nn_params, input_layer_size, hidden_layer_size,\n",
    "                      num_labels, X, y, lambda_)\n",
    "\n",
    "print('Cost at parameters (loaded from ex5weights): %.6f' % J)"
   ]
  },
  {
   "cell_type": "markdown",
   "metadata": {},
   "source": [
    "## 2 Backpropagation\n",
    "\n",
    "In this part of the exercise, you will implement the backpropagation algorithm to compute the gradient for the neural network cost function. You will need to update the function `nnCostFunction` so that it returns an appropriate value for `grad`. Once you have computed the gradient, you will be able to train the neural network by minimizing the cost function $J(\\theta)$ using an advanced optimizer such as `scipy`'s `optimize.minimize`.\n",
    "You will first implement the backpropagation algorithm to compute the gradients for the parameters for the (unregularized) neural network. After you have verified that your gradient computation for the unregularized case is correct, you will implement the gradient for the regularized neural network."
   ]
  },
  {
   "cell_type": "markdown",
   "metadata": {},
   "source": [
    "<a id=\"section3\"></a>\n",
    "### 2.1 Sigmoid Gradient (5 pts)\n",
    "\n",
    "To help you get started with this part of the exercise, you will first implement\n",
    "the sigmoid gradient function. The gradient for the sigmoid function can be\n",
    "computed as\n",
    "\n",
    "$$ g'(z) = \\frac{d}{dz} g(z) = g(z)\\left(1-g(z)\\right) $$\n",
    "\n",
    "where\n",
    "\n",
    "$$ \\text{sigmoid}(z) = g(z) = \\frac{1}{1 + e^{-z}} $$\n",
    "\n",
    "Now complete the implementation of `sigmoidGradient` in the next cell.\n",
    "<a id=\"sigmoidGradient\"></a>"
   ]
  },
  {
   "cell_type": "code",
   "execution_count": 11,
   "metadata": {},
   "outputs": [],
   "source": [
    "def sigmoidGradient(z):\n",
    "    \"\"\"\n",
    "    Computes the gradient of the sigmoid function evaluated at z. \n",
    "    This should work regardless if z is a matrix or a vector. \n",
    "    In particular, if z is a vector or matrix, you should return\n",
    "    the gradient for each element.\n",
    "    \n",
    "    Parameters\n",
    "    ----------\n",
    "    z : array_like\n",
    "        A vector or matrix as input to the sigmoid function. \n",
    "    \n",
    "    Returns\n",
    "    --------\n",
    "    g : array_like\n",
    "        Gradient of the sigmoid function. Has the same shape as z. \n",
    "    \n",
    "    Instructions\n",
    "    ------------\n",
    "    Compute the gradient of the sigmoid function evaluated at\n",
    "    each value of z (z can be a matrix, vector or scalar).\n",
    "    \n",
    "    \n",
    "    \"\"\"\n",
    "\n",
    "    g = np.zeros(z.shape)\n",
    "\n",
    "    # ====================== YOUR CODE HERE ======================\n",
    "\n",
    "\n",
    "\n",
    "    g = sigmoid(z) * (1 - sigmoid(z))\n",
    "    \n",
    "\n",
    "\n",
    "    # =============================================================\n",
    "    return g"
   ]
  },
  {
   "cell_type": "markdown",
   "metadata": {},
   "source": [
    "When you are done, the following cell call `sigmoidGradient` on a given vector `z`. Try testing a few values by calling `sigmoidGradient(z)`. For large values (both positive and negative) of z, the gradient should be close to 0. When $z = 0$, the gradient should be exactly 0.25. Your code should also work with vectors and matrices. For a matrix, your function should perform the sigmoid gradient function on every element."
   ]
  },
  {
   "cell_type": "code",
   "execution_count": 12,
   "metadata": {},
   "outputs": [
    {
     "name": "stdout",
     "output_type": "stream",
     "text": [
      "Sigmoid gradient evaluated at [-1 -0.5 0 0.5 1]:\n",
      "  \n",
      "[0.19661193 0.23500371 0.25       0.23500371 0.19661193]\n"
     ]
    }
   ],
   "source": [
    "z = np.array([-1, -0.5, 0, 0.5, 1])\n",
    "g = sigmoidGradient(z)\n",
    "print('Sigmoid gradient evaluated at [-1 -0.5 0 0.5 1]:\\n  ')\n",
    "print(g)"
   ]
  },
  {
   "cell_type": "markdown",
   "metadata": {},
   "source": [
    "### 2.2 Random Initialization (5 pts)\n",
    "\n",
    "When training neural networks, it is important to randomly initialize the parameters for symmetry breaking. One effective strategy for random initialization is to randomly select values for $\\Theta^{(l)}$ uniformly in the range $[-\\epsilon_{init}, \\epsilon_{init}]$. You should use $\\epsilon_{init} = 0.12$. This range of values ensures that the parameters are kept small and makes the learning more efficient.\n",
    "\n",
    "<div class=\"alert alert-box alert-warning\">\n",
    "One effective strategy for choosing $\\epsilon_{init}$ is to base it on the number of units in the network. A good choice of $\\epsilon_{init}$ is $\\epsilon_{init} = \\frac{\\sqrt{6}}{\\sqrt{L_{in} + L_{out}}}$ where $L_{in} = s_l$ and $L_{out} = s_{l+1}$ are the number of units in the layers adjacent to $\\Theta^{l}$.\n",
    "</div>\n",
    "\n",
    "Your job is to complete the function `randInitializeWeights` to initialize the weights for $\\Theta$. Modify the function by filling in the following code:\n",
    "\n",
    "```python\n",
    "# Randomly initialize the weights to small values\n",
    "W = np.random.rand(L_out, 1 + L_in) * 2 * epsilon_init - epsilon_init\n",
    "```\n",
    "Note that we give the function an argument for $\\epsilon$ with default value `epsilon_init = 0.12`."
   ]
  },
  {
   "cell_type": "code",
   "execution_count": 13,
   "metadata": {},
   "outputs": [],
   "source": [
    "def randInitializeWeights(L_in, L_out, epsilon_init=0.12):\n",
    "    \"\"\"\n",
    "    Randomly initialize the weights of a layer in a neural network.\n",
    "    \n",
    "    Parameters\n",
    "    ----------\n",
    "    L_in : int\n",
    "        Number of incomming connections.\n",
    "    \n",
    "    L_out : int\n",
    "        Number of outgoing connections. \n",
    "    \n",
    "    epsilon_init : float, optional\n",
    "        Range of values which the weight can take from a uniform \n",
    "        distribution.\n",
    "    \n",
    "    Returns\n",
    "    -------\n",
    "    W : array_like\n",
    "        The weight initialiatized to random values.  Note that W should\n",
    "        be set to a matrix of size(L_out, 1 + L_in) as\n",
    "        the first column of W handles the \"bias\" terms.\n",
    "        \n",
    "    Instructions\n",
    "    ------------\n",
    "    Initialize W randomly so that we break the symmetry while training\n",
    "    the neural network. Note that the first column of W corresponds \n",
    "    to the parameters for the bias unit.\n",
    "    \"\"\"\n",
    "\n",
    "    # You need to return the following variables correctly \n",
    "    W = np.zeros((L_out, 1 + L_in))\n",
    "\n",
    "    # ====================== YOUR CODE HERE ======================\n",
    "\n",
    "    W = np.random.rand(L_out, 1 + L_in) * (2 * epsilon_init) - epsilon_init\n",
    "\n",
    "\n",
    "    # ============================================================\n",
    "    return W"
   ]
  },
  {
   "cell_type": "markdown",
   "metadata": {},
   "source": [
    "Execute the following cell to initialize the weights for the 2 layers in the neural network using the `randInitializeWeights` function."
   ]
  },
  {
   "cell_type": "code",
   "execution_count": 14,
   "metadata": {},
   "outputs": [
    {
     "name": "stdout",
     "output_type": "stream",
     "text": [
      "Initializing Neural Network Parameters ...\n"
     ]
    }
   ],
   "source": [
    "print('Initializing Neural Network Parameters ...')\n",
    "\n",
    "initial_Theta1 = randInitializeWeights(input_layer_size, hidden_layer_size)\n",
    "initial_Theta2 = randInitializeWeights(hidden_layer_size, num_labels)\n",
    "\n",
    "# Unroll parameters\n",
    "initial_nn_params = np.concatenate([initial_Theta1.ravel(), initial_Theta2.ravel()], axis=0)\n"
   ]
  },
  {
   "cell_type": "code",
   "execution_count": 15,
   "metadata": {},
   "outputs": [
    {
     "name": "stdout",
     "output_type": "stream",
     "text": [
      "[-0.00820358 -0.09581423  0.03459654 ... -0.09895279  0.05862783\n",
      " -0.07442111] \n",
      " (10285,)\n"
     ]
    }
   ],
   "source": [
    "print(initial_nn_params, '\\n', initial_nn_params.shape)"
   ]
  },
  {
   "cell_type": "markdown",
   "metadata": {},
   "source": [
    "<a id=\"section4\"></a>\n",
    "### 2.3 Backpropagation (20 pts)\n",
    "\n",
    "![](Figures/ex5-backpropagation.png)\n",
    "\n",
    "Now, you will implement the backpropagation algorithm. Recall that the intuition behind the backpropagation algorithm is as follows. Given a training example $(x^{(t)}, y^{(t)})$, we will first run a “forward pass” to compute all the activations throughout the network, including the output value of the hypothesis $h_\\theta(x)$. Then, for each node $j$ in layer $l$, we would like to compute an “error term” $\\delta_j^{(l)}$ that measures how much that node was “responsible” for any errors in our output.\n",
    "\n",
    "For an output node, we can directly measure the difference between the network’s activation and the true target value, and use that to define $\\delta_j^{(3)}$ (since layer 3 is the output layer). For the hidden units, you will compute $\\delta_j^{(l)}$ based on a weighted average of the error terms of the nodes in layer $(l+1)$. In detail, here is the backpropagation algorithm (also depicted in the figure above). You should implement steps 1 to 4 in a loop that processes one example at a time. Concretely, you should implement a for-loop `for t in range(m)` and place steps 1-4 below inside the for-loop, with the $t^{th}$ iteration performing the calculation on the $t^{th}$ training example $(x^{(t)}, y^{(t)})$. Step 5 will divide the accumulated gradients by $m$ to obtain the gradients for the neural network cost function.\n",
    "\n",
    "1. Set the input layer’s values $(a^{(1)})$ to the $t^{th }$training example $x^{(t)}$. Perform a feedforward pass, computing the activations $(z^{(2)}, a^{(2)}, z^{(3)}, a^{(3)})$ for layers 2 and 3. Note that you need to add a `+1` term to ensure that the vectors of activations for layers $a^{(1)}$ and $a^{(2)}$ also include the bias unit. In `numpy`, if a 1 is a column matrix, adding one corresponds to `a_1 = np.concatenate([np.ones((m, 1)), a_1], axis=1)`.\n",
    "\n",
    "1. For each output unit $k$ in layer 3 (the output layer), set \n",
    "$$\\delta_k^{(3)} = \\left(a_k^{(3)} - y_k \\right)$$\n",
    "where $y_k \\in \\{0, 1\\}$ indicates whether the current training example belongs to class $k$ $(y_k = 1)$, or if it belongs to a different class $(y_k = 0)$. You may find logical arrays helpful for this task (explained in the previous programming exercise).\n",
    "\n",
    "1. For the hidden layer $l = 2$, set \n",
    "$$ \\delta^{(2)} = \\left( \\Theta^{(2)} \\right)^T \\delta^{(3)} * g'\\left(z^{(2)} \\right)$$\n",
    "Note that the symbol $*$ performs element wise multiplication in `numpy`.\n",
    "\n",
    "1. Accumulate the gradient from this example using the following formula. Note that you should skip or remove $\\delta_0^{(2)}$. In `numpy`, removing $\\delta_0^{(2)}$ corresponds to `delta_2 = delta_2[1:]`.\n",
    "$$ \\Delta^{(l)} = \\Delta^{(l)} + \\delta^{(l+1)} (a^{(l)})^{(T)} $$\n",
    "\n",
    "1. Obtain the (unregularized) gradient for the neural network cost function by dividing the accumulated gradients by $\\frac{1}{m}$:\n",
    "$$ \\frac{\\partial}{\\partial \\Theta_{ij}^{(l)}} J(\\Theta) = D_{ij}^{(l)} = \\frac{1}{m} \\Delta_{ij}^{(l)}$$\n",
    "\n",
    "<div class=\"alert alert-box alert-warning\">\n",
    "**Python/Numpy tip**: You should implement the backpropagation algorithm only after you have successfully completed the feedforward and cost functions. While implementing the backpropagation alogrithm, it is often useful to use the `shape` function to print out the shapes of the variables you are working with if you run into dimension mismatch errors.\n",
    "</div>\n",
    "\n",
    "[Click here to go back and update the function `nnCostFunction` with the backpropagation algorithm](#nnCostFunction).\n"
   ]
  },
  {
   "cell_type": "markdown",
   "metadata": {},
   "source": [
    "After you have implemented the backpropagation algorithm, we will proceed to run gradient checking on your implementation. The gradient check will allow you to increase your confidence that your code is\n",
    "computing the gradients correctly.\n",
    "\n",
    "### 2.4  Gradient checking (5 pts)\n",
    "\n",
    "In your neural network, you are minimizing the cost function $J(\\Theta)$. To perform gradient checking on your parameters, you can imagine “unrolling” the parameters $\\Theta^{(1)}$, $\\Theta^{(2)}$ into a long vector $\\theta$. By doing so, you can think of the cost function being $J(\\Theta)$ instead and use the following gradient checking procedure.\n",
    "\n",
    "Suppose you have a function $f_i(\\theta)$ that purportedly computes $\\frac{\\partial}{\\partial \\theta_i} J(\\theta)$; you’d like to check if $f_i$ is outputting correct derivative values.\n",
    "\n",
    "$$\n",
    "\\text{Let } \\theta^{(i+)} = \\theta + \\begin{bmatrix} 0 \\\\ 0 \\\\ \\vdots \\\\ \\epsilon \\\\ \\vdots \\\\ 0 \\end{bmatrix}\n",
    "\\quad \\text{and} \\quad \\theta^{(i-)} = \\theta - \\begin{bmatrix} 0 \\\\ 0 \\\\ \\vdots \\\\ \\epsilon \\\\ \\vdots \\\\ 0 \\end{bmatrix}\n",
    "$$\n",
    "\n",
    "So, $\\theta^{(i+)}$ is the same as $\\theta$, except its $i^{th}$ element has been incremented by $\\epsilon$. Similarly, $\\theta^{(i−)}$ is the corresponding vector with the $i^{th}$ element decreased by $\\epsilon$. You can now numerically verify $f_i(\\theta)$’s correctness by checking, for each $i$, that:\n",
    "\n",
    "$$ f_i\\left( \\theta \\right) \\approx \\frac{J\\left( \\theta^{(i+)}\\right) - J\\left( \\theta^{(i-)} \\right)}{2\\epsilon} $$\n",
    "\n",
    "The degree to which these two values should approximate each other will depend on the details of $J$. But assuming $\\epsilon = 10^{-4}$, you’ll usually find that the left- and right-hand sides of the above will agree to at least 4 significant digits (and often many more).\n",
    "\n",
    "Next, you need to define the function to compute the numerical gradient in `compute_numerial_gradient`. \n",
    "\n",
    "In the next cell we will run the provided function `check_nn_gradients` which will create a small neural network and dataset that will be used for checking your gradients. If your backpropagation implementation is correct,\n",
    "you should see a relative difference that is less than 1e-9.\n",
    "\n",
    "<div class=\"alert alert-box alert-success\">\n",
    "**Practical Tip**: When performing gradient checking, it is much more efficient to use a small neural network with a relatively small number of input units and hidden units, thus having a relatively small number\n",
    "of parameters. Each dimension of $\\theta$ requires two evaluations of the cost function and this can be expensive. In the function `check_nn_gradients`, our code creates a small random model and dataset which is used with `compute_numerial_gradient` for gradient checking. Furthermore, after you are confident that your gradient computations are correct, you should turn off gradient checking before running your learning algorithm.\n",
    "</div>\n",
    "\n",
    "<div class=\"alert alert-box alert-success\">\n",
    "**Practical Tip:** Gradient checking works for any function where you are computing the cost and the gradient. Concretely, you can use the same `compute_numerial_gradient` function to check if your gradient implementations for the other exercises are correct too (e.g., logistic regression’s cost function).\n",
    "</div>"
   ]
  },
  {
   "cell_type": "code",
   "execution_count": 16,
   "metadata": {},
   "outputs": [],
   "source": [
    "def compute_numerial_gradient(cost_func, theta):\n",
    "    numgrad = np.zeros(theta.size)\n",
    "    perturb = np.zeros(theta.size)\n",
    "\n",
    "    e = 1e-4\n",
    "\n",
    "    # ====================== YOUR CODE HERE ======================\n",
    "    numgrad = np.zeros(theta.size)\n",
    "    perturb = np.zeros(theta.size)\n",
    "    e = 1e-4\n",
    "\n",
    "    for p in range(theta.size):\n",
    "        perturb[p] = e\n",
    "        loss1, grad1 = cost_func(theta - perturb)\n",
    "        loss2, grad2 = cost_func(theta + perturb)\n",
    "\n",
    "        numgrad[p] = (loss2 - loss1) / (2 * e)\n",
    "        perturb[p] = 0\n",
    "   \n",
    "\n",
    "\n",
    "    # ============================================================\n",
    "    \n",
    "    \n",
    "\n",
    "    return numgrad"
   ]
  },
  {
   "cell_type": "code",
   "execution_count": 17,
   "metadata": {},
   "outputs": [],
   "source": [
    "def debug_initialize_weights(fan_out, fan_in):\n",
    "    w = np.zeros((fan_out, 1 + fan_in))\n",
    "\n",
    "    w = np.sin(np.arange(w.size)).reshape(w.shape) / 10\n",
    "\n",
    "    return w"
   ]
  },
  {
   "cell_type": "code",
   "execution_count": 18,
   "metadata": {},
   "outputs": [],
   "source": [
    "def check_nn_gradients(lmd):\n",
    "\n",
    "    input_layer_size = 3\n",
    "    hidden_layer_size = 5\n",
    "    num_labels = 3\n",
    "    m = 5\n",
    "\n",
    "    # We generatesome 'random' test data\n",
    "    theta1 = debug_initialize_weights(hidden_layer_size, input_layer_size)\n",
    "    theta2 = debug_initialize_weights(num_labels, hidden_layer_size)\n",
    "\n",
    "    # Reusing debugInitializeWeights to genete X\n",
    "    X = debug_initialize_weights(m, input_layer_size - 1)\n",
    "    y = 1 + np.mod(np.arange(1, m + 1), num_labels)\n",
    "\n",
    "    # Unroll parameters\n",
    "    nn_params = np.concatenate([theta1.flatten(), theta2.flatten()])\n",
    "\n",
    "    def cost_func(p):\n",
    "        return nnCostFunction(p, input_layer_size, hidden_layer_size, num_labels, X, y, lmd)\n",
    "    \n",
    "    cost, grad = cost_func(nn_params)\n",
    "    numgrad = compute_numerial_gradient(cost_func, nn_params)\n",
    "\n",
    "    print(np.c_[grad, numgrad])"
   ]
  },
  {
   "cell_type": "code",
   "execution_count": 19,
   "metadata": {},
   "outputs": [
    {
     "name": "stdout",
     "output_type": "stream",
     "text": [
      "[[ 9.01303866e-03  9.01303866e-03]\n",
      " [-6.08047127e-05 -6.08047146e-05]\n",
      " [-6.96665817e-06 -6.96665836e-06]\n",
      " [ 5.32765097e-05  5.32765099e-05]\n",
      " [ 1.17193332e-02  1.17193332e-02]\n",
      " [-7.05495376e-05 -7.05495351e-05]\n",
      " [ 1.66652194e-04  1.66652196e-04]\n",
      " [ 2.50634667e-04  2.50634666e-04]\n",
      " [ 3.66087511e-03  3.66087511e-03]\n",
      " [-1.54510225e-05 -1.54510182e-05]\n",
      " [ 1.86817175e-04  1.86817173e-04]\n",
      " [ 2.17326523e-04  2.17326523e-04]\n",
      " [-7.76550109e-03 -7.76550108e-03]\n",
      " [ 5.38947948e-05  5.38947953e-05]\n",
      " [ 3.53029178e-05  3.53029161e-05]\n",
      " [-1.57462990e-05 -1.57462998e-05]\n",
      " [-1.20637760e-02 -1.20637760e-02]\n",
      " [ 7.36351996e-05  7.36352002e-05]\n",
      " [-1.48712777e-04 -1.48712773e-04]\n",
      " [-2.34334912e-04 -2.34334914e-04]\n",
      " [ 3.02286353e-01  3.02286353e-01]\n",
      " [ 1.51010770e-01  1.51010770e-01]\n",
      " [ 1.45233242e-01  1.45233242e-01]\n",
      " [ 1.58998192e-01  1.58998192e-01]\n",
      " [ 1.46779086e-01  1.46779086e-01]\n",
      " [ 1.48987769e-01  1.48987769e-01]\n",
      " [ 9.95931723e-02  9.95931723e-02]\n",
      " [ 4.96122519e-02  4.96122519e-02]\n",
      " [ 4.83540132e-02  4.83540132e-02]\n",
      " [ 5.18660079e-02  5.18660079e-02]\n",
      " [ 4.85328991e-02  4.85328991e-02]\n",
      " [ 4.93783641e-02  4.93783641e-02]\n",
      " [ 9.69324215e-02  9.69324215e-02]\n",
      " [ 4.89006564e-02  4.89006564e-02]\n",
      " [ 4.65577354e-02  4.65577354e-02]\n",
      " [ 5.05267299e-02  5.05267299e-02]\n",
      " [ 4.76803471e-02  4.76803471e-02]\n",
      " [ 4.74319072e-02  4.74319072e-02]]\n"
     ]
    }
   ],
   "source": [
    "lmd = 0\n",
    "check_nn_gradients(lmd)"
   ]
  },
  {
   "cell_type": "markdown",
   "metadata": {},
   "source": [
    "<a id=\"section5\"></a>\n",
    "### 2.5 Regularized Neural Network (10 pts)\n",
    "\n",
    "After you have successfully implemented the backpropagation algorithm, you will add regularization to the gradient. To account for regularization, it turns out that you can add this as an additional term *after* computing the gradients using backpropagation.\n",
    "\n",
    "Specifically, after you have computed $\\Delta_{ij}^{(l)}$ using backpropagation, you should add regularization using\n",
    "\n",
    "$$ \\begin{align} \n",
    "& \\frac{\\partial}{\\partial \\Theta_{ij}^{(l)}} J(\\Theta) = D_{ij}^{(l)} = \\frac{1}{m} \\Delta_{ij}^{(l)} & \\qquad \\text{for } j = 0 \\\\\n",
    "& \\frac{\\partial}{\\partial \\Theta_{ij}^{(l)}} J(\\Theta) = D_{ij}^{(l)} = \\frac{1}{m} \\Delta_{ij}^{(l)} + \\frac{\\lambda}{m} \\Theta_{ij}^{(l)} & \\qquad \\text{for } j \\ge 1\n",
    "\\end{align}\n",
    "$$\n",
    "\n",
    "Note that you should *not* be regularizing the first column of $\\Theta^{(l)}$ which is used for the bias term. Furthermore, in the parameters $\\Theta_{ij}^{(l)}$, $i$ is indexed starting from 1, and $j$ is indexed starting from 0. Thus, \n",
    "\n",
    "$$\n",
    "\\Theta^{(l)} = \\begin{bmatrix}\n",
    "\\Theta_{1,0}^{(i)} & \\Theta_{1,1}^{(l)} & \\cdots \\\\\n",
    "\\Theta_{2,0}^{(i)} & \\Theta_{2,1}^{(l)} & \\cdots \\\\\n",
    "\\vdots &  ~ & \\ddots\n",
    "\\end{bmatrix}\n",
    "$$\n",
    "\n",
    "[Now modify your code that computes grad in `nnCostFunction` to account for regularization.](#nnCostFunction)\n",
    "\n",
    "After you are done, the following cell runs gradient checking on your implementation. If your code is correct, you should expect to see a relative difference that is less than 1e-9."
   ]
  },
  {
   "cell_type": "code",
   "execution_count": 20,
   "metadata": {},
   "outputs": [
    {
     "name": "stdout",
     "output_type": "stream",
     "text": [
      "[[ 0.00901304  0.00901304]\n",
      " [ 0.05042745  0.05042745]\n",
      " [ 0.05455088  0.05455088]\n",
      " [ 0.00852048  0.00852048]\n",
      " [ 0.01171933  0.01171933]\n",
      " [-0.05760601 -0.05760601]\n",
      " [-0.01659828 -0.01659828]\n",
      " [ 0.03966983  0.03966983]\n",
      " [ 0.00366088  0.00366088]\n",
      " [ 0.02471166  0.02471166]\n",
      " [-0.03245445 -0.03245445]\n",
      " [-0.05978209 -0.05978209]\n",
      " [-0.0077655  -0.0077655 ]\n",
      " [ 0.02526392  0.02526392]\n",
      " [ 0.05947174  0.05947174]\n",
      " [ 0.03900152  0.03900152]\n",
      " [-0.01206378 -0.01206378]\n",
      " [-0.05761021 -0.05761021]\n",
      " [-0.04520795 -0.04520795]\n",
      " [ 0.0087583   0.0087583 ]\n",
      " [ 0.30228635  0.30228635]\n",
      " [ 0.20149903  0.20149903]\n",
      " [ 0.19979109  0.19979109]\n",
      " [ 0.16746539  0.16746539]\n",
      " [ 0.10137094  0.10137094]\n",
      " [ 0.09145231  0.09145231]\n",
      " [ 0.09959317  0.09959317]\n",
      " [ 0.08903145  0.08903145]\n",
      " [ 0.10771551  0.10771551]\n",
      " [ 0.07659312  0.07659312]\n",
      " [ 0.01589163  0.01589163]\n",
      " [-0.01062105 -0.01062105]\n",
      " [ 0.09693242  0.09693242]\n",
      " [ 0.07411068  0.07411068]\n",
      " [ 0.10599418  0.10599418]\n",
      " [ 0.089544    0.089544  ]\n",
      " [ 0.03040615  0.03040615]\n",
      " [-0.01025194 -0.01025194]]\n",
      "\n",
      "\n",
      "Cost at (fixed) debugging parameters (w/ lambda = 3.000000): 0.576051 \n"
     ]
    }
   ],
   "source": [
    "#  Check gradients by running check_nn_gradients\n",
    "lambda_ = 3\n",
    "check_nn_gradients(lambda_)\n",
    "\n",
    "# Also output the costFunction debugging values\n",
    "debug_J, _  = nnCostFunction(nn_params, input_layer_size,\n",
    "                          hidden_layer_size, num_labels, X, y, lambda_)\n",
    "\n",
    "print('\\n\\nCost at (fixed) debugging parameters (w/ lambda = %f): %f ' % (lambda_, debug_J))"
   ]
  },
  {
   "cell_type": "markdown",
   "metadata": {},
   "source": [
    "### 2.6 Learning parameters using `scipy.optimize.minimize` (10 pts)\n",
    "\n",
    "After you have successfully implemented the neural network cost function\n",
    "and gradient computation, the next step we will use `scipy`'s minimization to learn a good set parameters."
   ]
  },
  {
   "cell_type": "code",
   "execution_count": 21,
   "metadata": {},
   "outputs": [],
   "source": [
    "#  After you have completed the assignment, change the maxiter to a larger\n",
    "#  value to see how more training helps.\n",
    "options= {'maxiter': 100}\n",
    "\n",
    "#  You should also try different values of lambda\n",
    "lambda_ = 1\n",
    "\n",
    "# Create \"short hand\" for the cost function to be minimized\n",
    "costFunction = lambda p: nnCostFunction(p, input_layer_size,\n",
    "                                        hidden_layer_size,\n",
    "                                        num_labels, X, y, lambda_)\n",
    "\n",
    "# Now, costFunction is a function that takes in only one argument\n",
    "# (the neural network parameters)\n",
    "\n",
    "    # ====================== YOUR CODE HERE ======================\n",
    "\n",
    "res = optimize.minimize(costFunction,\n",
    "                        initial_nn_params,\n",
    "                        jac=True,\n",
    "                        method='TNC',\n",
    "                        options=options)\n",
    "\n",
    "\n",
    "    # ============================================================\n",
    "\n",
    "# get the solution of the optimization\n",
    "nn_params = res.x\n",
    "        \n",
    "# Obtain Theta1 and Theta2 back from nn_params\n",
    "Theta1 = np.reshape(nn_params[:hidden_layer_size * (input_layer_size + 1)],\n",
    "                    (hidden_layer_size, (input_layer_size + 1)))\n",
    "\n",
    "Theta2 = np.reshape(nn_params[(hidden_layer_size * (input_layer_size + 1)):],\n",
    "                    (num_labels, (hidden_layer_size + 1)))"
   ]
  },
  {
   "cell_type": "markdown",
   "metadata": {},
   "source": [
    "After the training completes, we will proceed to report the training accuracy of your classifier by computing the percentage of examples it got correct. If your implementation is correct, you should see a reported\n",
    "training accuracy of about 95.3% (this may vary by about 1% due to the random initialization). It is possible to get higher training accuracies by training the neural network for more iterations. We encourage you to try\n",
    "training the neural network for more iterations (e.g., set `maxiter` to 400) and also vary the regularization parameter $\\lambda$. With the right learning settings, it is possible to get the neural network to perfectly fit the training set."
   ]
  },
  {
   "cell_type": "code",
   "execution_count": 22,
   "metadata": {},
   "outputs": [],
   "source": [
    "def predict(theta1, theta2, x):\n",
    "    m = x.shape[0]\n",
    "\n",
    "    x = np.c_[np.ones(m), x]\n",
    "    h1 = sigmoid(np.dot(x, theta1.T))\n",
    "    h1 = np.c_[np.ones(h1.shape[0]), h1]\n",
    "    h2 = sigmoid(np.dot(h1, theta2.T))\n",
    "    p = np.argmax(h2, axis=1) + 1\n",
    "\n",
    "    return p"
   ]
  },
  {
   "cell_type": "code",
   "execution_count": 23,
   "metadata": {},
   "outputs": [],
   "source": [
    "pred = predict(Theta1, Theta2, X)"
   ]
  },
  {
   "cell_type": "code",
   "execution_count": 24,
   "metadata": {},
   "outputs": [
    {
     "name": "stdout",
     "output_type": "stream",
     "text": [
      "Training set accuracy: 96.17999999999999\n"
     ]
    }
   ],
   "source": [
    "print('Training set accuracy: {}'.format(np.mean(pred == y)*100))"
   ]
  },
  {
   "cell_type": "markdown",
   "metadata": {},
   "source": [
    "## 3 Visualizing the Hidden Layer\n",
    "\n",
    "One way to understand what your neural network is learning is to visualize what the representations captured by the hidden units. Informally, given a particular hidden unit, one way to visualize what it computes is to find an input $x$ that will cause it to activate (that is, to have an activation value \n",
    "($a_i^{(l)}$) close to 1). For the neural network you trained, notice that the $i^{th}$ row of $\\Theta^{(1)}$ is a 401-dimensional vector that represents the parameter for the $i^{th}$ hidden unit. If we discard the bias term, we get a 400 dimensional vector that represents the weights from each input pixel to the hidden unit.\n",
    "\n",
    "Thus, one way to visualize the “representation” captured by the hidden unit is to reshape this 400 dimensional vector into a 20 × 20 image and display it (It turns out that this is equivalent to finding the input that gives the highest activation for the hidden unit, given a “norm” constraint on the input (i.e., $||x||_2 \\le 1$)). \n",
    "\n",
    "The next cell does this by using the `display_data` function and it will show you an image with 25 units,\n",
    "each corresponding to one hidden unit in the network. In your trained network, you should find that the hidden units corresponds roughly to detectors that look for strokes and other patterns in the input."
   ]
  },
  {
   "cell_type": "code",
   "execution_count": 25,
   "metadata": {
    "scrolled": true
   },
   "outputs": [
    {
     "data": {
      "image/png": "[encoded data removed]",
      "text/plain": [
       "<Figure size 432x288 with 1 Axes>"
      ]
     },
     "metadata": {
      "needs_background": "light"
     },
     "output_type": "display_data"
    }
   ],
   "source": [
    "display_data(Theta1[:, 1:])"
   ]
  },
  {
   "cell_type": "markdown",
   "metadata": {},
   "source": [
    "<a id=\"section7\"></a>\n",
    "## 4 Scikit-learn (20pt)\n",
    "\n",
    "In this part, you need to use scikit-learn to train a NN model, and compare with the ones you have found before. You should also verify the accuracy scores. "
   ]
  },
  {
   "cell_type": "markdown",
   "metadata": {},
   "source": [
    "### If using GPU run the next cell "
   ]
  },
  {
   "cell_type": "code",
   "execution_count": 26,
   "metadata": {},
   "outputs": [
    {
     "name": "stdout",
     "output_type": "stream",
     "text": [
      "physical_devices------------- 1\n"
     ]
    }
   ],
   "source": [
    "import tensorflow as tf\n",
    "physical_devices = tf.config.experimental.list_physical_devices('GPU')\n",
    "print(\"physical_devices-------------\", len(physical_devices))\n",
    "tf.config.experimental.set_memory_growth(physical_devices[0], True)"
   ]
  },
  {
   "cell_type": "code",
   "execution_count": 27,
   "metadata": {},
   "outputs": [],
   "source": [
    "np.set_printoptions(suppress=True)"
   ]
  },
  {
   "cell_type": "markdown",
   "metadata": {},
   "source": [
    "import tensorflow as tf"
   ]
  },
  {
   "cell_type": "code",
   "execution_count": 28,
   "metadata": {},
   "outputs": [],
   "source": [
    "data = loadmat(os.path.join('Data', r'C:\\Users\\Behnam\\Downloads\\Python\\Datasets\\ML_HW5\\ex5data1.mat'))\n",
    "X = data['X']\n",
    "y = data['y'].flatten()\n"
   ]
  },
  {
   "cell_type": "code",
   "execution_count": 29,
   "metadata": {},
   "outputs": [
    {
     "data": {
      "text/plain": [
       "array([ 0.        ,  0.        ,  0.        ,  0.        ,  0.        ,\n",
       "        0.        ,  0.        ,  0.        ,  0.        ,  0.        ,\n",
       "        0.        ,  0.        ,  0.        ,  0.        ,  0.        ,\n",
       "        0.        ,  0.        ,  0.        ,  0.        ,  0.        ,\n",
       "        0.        ,  0.        ,  0.        ,  0.        ,  0.        ,\n",
       "        0.        ,  0.        ,  0.        ,  0.        ,  0.        ,\n",
       "        0.        ,  0.        ,  0.        ,  0.        ,  0.        ,\n",
       "        0.        ,  0.        ,  0.        ,  0.        ,  0.        ,\n",
       "        0.        ,  0.        ,  0.        ,  0.        ,  0.        ,\n",
       "        0.        ,  0.        ,  0.        ,  0.        ,  0.        ,\n",
       "        0.        ,  0.        ,  0.        ,  0.        ,  0.        ,\n",
       "        0.        ,  0.        ,  0.        ,  0.        ,  0.        ,\n",
       "        0.        ,  0.        ,  0.        ,  0.        ,  0.        ,\n",
       "        0.        ,  0.        ,  0.00000856,  0.00000194, -0.00073744,\n",
       "       -0.00813404, -0.01861045, -0.01874129, -0.01875725, -0.01909635,\n",
       "       -0.0164039 , -0.00378191,  0.00033035,  0.00001277,  0.        ,\n",
       "        0.        ,  0.        ,  0.        ,  0.        ,  0.        ,\n",
       "        0.        ,  0.00011642,  0.00012005, -0.01404446, -0.02845425,\n",
       "        0.08038266,  0.26654034,  0.27385375,  0.27872954,  0.27429361,\n",
       "        0.2246764 ,  0.0277563 , -0.00706315,  0.00023472,  0.        ,\n",
       "        0.        ,  0.        ,  0.        ,  0.        ,  0.        ,\n",
       "        0.        , -0.00032629, -0.01386516,  0.08156516,  0.38280038,\n",
       "        0.85784978,  1.00109761,  0.96971064,  0.9309286 ,  1.00383757,\n",
       "        0.96415736,  0.44925655, -0.00560408, -0.00378319,  0.        ,\n",
       "        0.        ,  0.        ,  0.        ,  0.00000511,  0.00043641,\n",
       "       -0.0039551 , -0.02685372,  0.10075501,  0.64203171,  1.03136838,\n",
       "        0.85096861,  0.54312238,  0.34259974,  0.26891878,  0.66837464,\n",
       "        1.01256958,  0.9037956 ,  0.10448157, -0.0166425 ,  0.        ,\n",
       "        0.        ,  0.        ,  0.        ,  0.00002599, -0.00310607,\n",
       "        0.00752456,  0.17753983,  0.79289012,  0.9656265 ,  0.46316608,\n",
       "        0.06917207, -0.00364101, -0.04121804, -0.05019007,  0.15610291,\n",
       "        0.90176265,  1.04748346,  0.15105525, -0.02160447,  0.        ,\n",
       "        0.        ,  0.        ,  0.0000587 , -0.00064093, -0.03233052,\n",
       "        0.27820347,  0.93672016,  1.04320956,  0.59800322, -0.00359409,\n",
       "       -0.02167518, -0.00481022,  0.00006166, -0.01237733,  0.15547748,\n",
       "        0.91486748,  0.92040135,  0.1091739 , -0.0171058 ,  0.        ,\n",
       "        0.        ,  0.00015625, -0.00042772, -0.02514665,  0.13053256,\n",
       "        0.78166486,  1.02836583,  0.7571376 ,  0.28466719,  0.00486865,\n",
       "       -0.00318689,  0.        ,  0.00083649, -0.03707511,  0.45264417,\n",
       "        1.03180133,  0.5390281 , -0.00243743, -0.0048029 ,  0.        ,\n",
       "        0.        , -0.00070364, -0.01272624,  0.16170665,  0.77986538,\n",
       "        1.03676705,  0.8044904 ,  0.16058672, -0.01381733,  0.00214879,\n",
       "       -0.00021262,  0.00020425, -0.00685908,  0.00043171,  0.72068095,\n",
       "        0.84813606,  0.15138341, -0.02284044,  0.00019897,  0.        ,\n",
       "        0.        , -0.00940411,  0.03745205,  0.69438911,  1.02844844,\n",
       "        1.01648066,  0.88048843,  0.39212395, -0.01741224, -0.0001201 ,\n",
       "        0.00005552, -0.00223907, -0.02760684,  0.36864549,  0.93641117,\n",
       "        0.45900672, -0.04247018,  0.00117357,  0.00001889,  0.        ,\n",
       "        0.        , -0.0193512 ,  0.12999979,  0.97982171,  0.94186239,\n",
       "        0.7751477 ,  0.87363224,  0.21277835, -0.01723533,  0.        ,\n",
       "        0.00109937, -0.02617938,  0.12287288,  0.83081266,  0.72650177,\n",
       "        0.05244419, -0.00618972,  0.        ,  0.        ,  0.        ,\n",
       "        0.        , -0.00936564,  0.03683497,  0.6990793 ,  1.00293583,\n",
       "        0.6057044 ,  0.32729922, -0.03220992, -0.0483053 , -0.04340691,\n",
       "       -0.05751511,  0.09556742,  0.72651263,  0.69536697,  0.14711448,\n",
       "       -0.01200487, -0.0003028 ,  0.        ,  0.        ,  0.        ,\n",
       "        0.        , -0.00067657, -0.00651416,  0.11733936,  0.42194841,\n",
       "        0.99321094,  0.88201397,  0.74575873,  0.72387427,  0.72334172,\n",
       "        0.72002034,  0.84532496,  0.83185974,  0.06888319, -0.0277765 ,\n",
       "        0.00035914,  0.00007149,  0.        ,  0.        ,  0.        ,\n",
       "        0.        ,  0.00015319,  0.00031735, -0.02291672, -0.00414403,\n",
       "        0.38703845,  0.50458344,  0.77488588,  0.99003745,  1.00769478,\n",
       "        1.0085144 ,  0.73790504,  0.21545529, -0.02696249,  0.00132506,\n",
       "        0.        ,  0.        ,  0.        ,  0.        ,  0.        ,\n",
       "        0.        ,  0.        ,  0.        ,  0.00023637, -0.00226031,\n",
       "       -0.02519945, -0.03738899,  0.06621212,  0.2911345 ,  0.32305573,\n",
       "        0.30626031,  0.08760709, -0.02505819,  0.00023744,  0.        ,\n",
       "        0.        ,  0.        ,  0.        ,  0.        ,  0.        ,\n",
       "        0.        ,  0.        ,  0.        ,  0.        ,  0.        ,\n",
       "        0.        ,  0.00067262, -0.01131514, -0.03546411, -0.03882149,\n",
       "       -0.03710774, -0.01335249,  0.00099096,  0.00004892,  0.        ,\n",
       "        0.        ,  0.        ,  0.        ,  0.        ,  0.        ,\n",
       "        0.        ,  0.        ,  0.        ,  0.        ,  0.        ,\n",
       "        0.        ,  0.        ,  0.        ,  0.        ,  0.        ,\n",
       "        0.        ,  0.        ,  0.        ,  0.        ,  0.        ,\n",
       "        0.        ,  0.        ,  0.        ,  0.        ,  0.        ,\n",
       "        0.        ,  0.        ,  0.        ,  0.        ,  0.        ,\n",
       "        0.        ,  0.        ,  0.        ,  0.        ,  0.        ,\n",
       "        0.        ,  0.        ,  0.        ,  0.        ,  0.        ,\n",
       "        0.        ,  0.        ,  0.        ,  0.        ,  0.        ])"
      ]
     },
     "execution_count": 29,
     "metadata": {},
     "output_type": "execute_result"
    }
   ],
   "source": [
    "X[0]"
   ]
  },
  {
   "cell_type": "markdown",
   "metadata": {},
   "source": [
    "### All X values is between -1 and 1, no need for Normalization"
   ]
  },
  {
   "cell_type": "code",
   "execution_count": 30,
   "metadata": {},
   "outputs": [
    {
     "data": {
      "text/plain": [
       "array([ 1,  2,  3,  4,  5,  6,  7,  8,  9, 10], dtype=uint8)"
      ]
     },
     "execution_count": 30,
     "metadata": {},
     "output_type": "execute_result"
    }
   ],
   "source": [
    "np.unique(y)"
   ]
  },
  {
   "cell_type": "code",
   "execution_count": 31,
   "metadata": {},
   "outputs": [
    {
     "data": {
      "text/plain": [
       "10"
      ]
     },
     "execution_count": 31,
     "metadata": {},
     "output_type": "execute_result"
    }
   ],
   "source": [
    "y[1]"
   ]
  },
  {
   "cell_type": "markdown",
   "metadata": {},
   "source": [
    "### Classes in  y start from 1 instead of 0, so when we give y to `keras.utils.to_categorical` it creates an extra class of 0 \n",
    "\n",
    "- Then we will have 11 classes instead of 10 (starts from 0 upto 10)\n",
    "- But we have 10 classes (digits from 0 to 9)\n",
    "\n",
    "- So wee need to convert class 10 which corresponds to number 0 to class 0"
   ]
  },
  {
   "cell_type": "code",
   "execution_count": 32,
   "metadata": {},
   "outputs": [],
   "source": [
    "y = np.where(y==10, 0, y)"
   ]
  },
  {
   "cell_type": "code",
   "execution_count": 33,
   "metadata": {},
   "outputs": [
    {
     "name": "stderr",
     "output_type": "stream",
     "text": [
      "Using TensorFlow backend.\n"
     ]
    },
    {
     "data": {
      "text/plain": [
       "array([1., 0., 0., 0., 0., 0., 0., 0., 0., 0.], dtype=float32)"
      ]
     },
     "execution_count": 33,
     "metadata": {},
     "output_type": "execute_result"
    }
   ],
   "source": [
    "import keras\n",
    "y = keras.utils.to_categorical(y, num_classes=10)\n",
    "y[1]"
   ]
  },
  {
   "cell_type": "markdown",
   "metadata": {},
   "source": [
    "### Now you can see `y[1]` is class 0"
   ]
  },
  {
   "cell_type": "code",
   "execution_count": 34,
   "metadata": {},
   "outputs": [],
   "source": [
    "from sklearn.model_selection import train_test_split\n",
    "\n",
    "X_train, X_test, y_train, y_test = train_test_split(X, y, stratify = y, test_size=0.2 )"
   ]
  },
  {
   "cell_type": "code",
   "execution_count": 35,
   "metadata": {},
   "outputs": [
    {
     "data": {
      "text/plain": [
       "((4000, 400), (4000, 10))"
      ]
     },
     "execution_count": 35,
     "metadata": {},
     "output_type": "execute_result"
    }
   ],
   "source": [
    "X_train.shape, y_train.shape"
   ]
  },
  {
   "cell_type": "code",
   "execution_count": 36,
   "metadata": {},
   "outputs": [],
   "source": [
    "from keras.models import Sequential\n",
    "from keras.layers import Dense\n",
    "from keras.layers import Dropout\n",
    "\n",
    "dnn = Sequential([\n",
    "    Dense(1024, activation='relu', input_shape=(400,)),\n",
    "    Dropout(0.5),\n",
    "    Dense(1024, activation='relu'),\n",
    "    Dropout(0.5),\n",
    "    Dense(10, activation='softmax')\n",
    "])\n"
   ]
  },
  {
   "cell_type": "code",
   "execution_count": 37,
   "metadata": {},
   "outputs": [],
   "source": [
    "dnn.compile('Adam', 'categorical_crossentropy', metrics=['accuracy'] )"
   ]
  },
  {
   "cell_type": "code",
   "execution_count": 38,
   "metadata": {},
   "outputs": [
    {
     "name": "stdout",
     "output_type": "stream",
     "text": [
      "Model: \"sequential_1\"\n",
      "_________________________________________________________________\n",
      "Layer (type)                 Output Shape              Param #   \n",
      "=================================================================\n",
      "dense_1 (Dense)              (None, 1024)              410624    \n",
      "_________________________________________________________________\n",
      "dropout_1 (Dropout)          (None, 1024)              0         \n",
      "_________________________________________________________________\n",
      "dense_2 (Dense)              (None, 1024)              1049600   \n",
      "_________________________________________________________________\n",
      "dropout_2 (Dropout)          (None, 1024)              0         \n",
      "_________________________________________________________________\n",
      "dense_3 (Dense)              (None, 10)                10250     \n",
      "=================================================================\n",
      "Total params: 1,470,474\n",
      "Trainable params: 1,470,474\n",
      "Non-trainable params: 0\n",
      "_________________________________________________________________\n"
     ]
    }
   ],
   "source": [
    "dnn.summary()"
   ]
  },
  {
   "cell_type": "code",
   "execution_count": 39,
   "metadata": {},
   "outputs": [
    {
     "name": "stdout",
     "output_type": "stream",
     "text": [
      "Train on 3600 samples, validate on 400 samples\n",
      "Epoch 1/20\n",
      "3600/3600 [==============================] - 1s 364us/step - loss: 1.0578 - accuracy: 0.6617 - val_loss: 0.4148 - val_accuracy: 0.8875\n",
      "Epoch 2/20\n",
      "3600/3600 [==============================] - 0s 72us/step - loss: 0.4042 - accuracy: 0.8778 - val_loss: 0.3215 - val_accuracy: 0.9275\n",
      "Epoch 3/20\n",
      "3600/3600 [==============================] - 0s 72us/step - loss: 0.2851 - accuracy: 0.9156 - val_loss: 0.2601 - val_accuracy: 0.9350\n",
      "Epoch 4/20\n",
      "3600/3600 [==============================] - 0s 71us/step - loss: 0.2438 - accuracy: 0.9264 - val_loss: 0.2252 - val_accuracy: 0.9375\n",
      "Epoch 5/20\n",
      "3600/3600 [==============================] - 0s 69us/step - loss: 0.1814 - accuracy: 0.9447 - val_loss: 0.2504 - val_accuracy: 0.9375\n",
      "Epoch 6/20\n",
      "3600/3600 [==============================] - 0s 71us/step - loss: 0.1558 - accuracy: 0.9514 - val_loss: 0.2388 - val_accuracy: 0.9375\n",
      "Epoch 7/20\n",
      "3600/3600 [==============================] - 0s 73us/step - loss: 0.1307 - accuracy: 0.9597 - val_loss: 0.1860 - val_accuracy: 0.9475\n",
      "Epoch 8/20\n",
      "3600/3600 [==============================] - 0s 70us/step - loss: 0.1025 - accuracy: 0.9711 - val_loss: 0.2141 - val_accuracy: 0.9375\n",
      "Epoch 9/20\n",
      "3600/3600 [==============================] - 0s 73us/step - loss: 0.0792 - accuracy: 0.9775 - val_loss: 0.2197 - val_accuracy: 0.9500\n",
      "Epoch 10/20\n",
      "3600/3600 [==============================] - 0s 68us/step - loss: 0.0756 - accuracy: 0.9797 - val_loss: 0.2241 - val_accuracy: 0.9500\n",
      "Epoch 11/20\n",
      "3600/3600 [==============================] - 0s 68us/step - loss: 0.0781 - accuracy: 0.9761 - val_loss: 0.2207 - val_accuracy: 0.9500\n",
      "Epoch 12/20\n",
      "3600/3600 [==============================] - 0s 71us/step - loss: 0.0580 - accuracy: 0.9842 - val_loss: 0.2126 - val_accuracy: 0.9500\n",
      "Epoch 13/20\n",
      "3600/3600 [==============================] - 0s 72us/step - loss: 0.0481 - accuracy: 0.9872 - val_loss: 0.2146 - val_accuracy: 0.9475\n",
      "Epoch 14/20\n",
      "3600/3600 [==============================] - 0s 70us/step - loss: 0.0395 - accuracy: 0.9892 - val_loss: 0.2058 - val_accuracy: 0.9500\n",
      "Epoch 15/20\n",
      "3600/3600 [==============================] - 0s 72us/step - loss: 0.0367 - accuracy: 0.9900 - val_loss: 0.2239 - val_accuracy: 0.9475\n",
      "Epoch 16/20\n",
      "3600/3600 [==============================] - 0s 74us/step - loss: 0.0478 - accuracy: 0.9842 - val_loss: 0.2133 - val_accuracy: 0.9500\n",
      "Epoch 17/20\n",
      "3600/3600 [==============================] - 0s 72us/step - loss: 0.0607 - accuracy: 0.9819 - val_loss: 0.2456 - val_accuracy: 0.9450\n",
      "Epoch 18/20\n",
      "3600/3600 [==============================] - 0s 68us/step - loss: 0.0473 - accuracy: 0.9847 - val_loss: 0.2249 - val_accuracy: 0.9450\n",
      "Epoch 19/20\n",
      "3600/3600 [==============================] - 0s 71us/step - loss: 0.0467 - accuracy: 0.9858 - val_loss: 0.2129 - val_accuracy: 0.9525\n",
      "Epoch 20/20\n",
      "3600/3600 [==============================] - 0s 71us/step - loss: 0.0306 - accuracy: 0.9911 - val_loss: 0.2182 - val_accuracy: 0.9575\n"
     ]
    }
   ],
   "source": [
    "history_callback = dnn.fit(X_train, y_train,  batch_size=128, epochs=20, validation_split=0.1 )"
   ]
  },
  {
   "cell_type": "code",
   "execution_count": 40,
   "metadata": {},
   "outputs": [
    {
     "name": "stdout",
     "output_type": "stream",
     "text": [
      "1000/1000 [==============================] - 0s 80us/step\n",
      "Test loss: 0.146\n",
      "Test Accuracy: 0.959\n"
     ]
    }
   ],
   "source": [
    "score = dnn.evaluate(X_test, y_test)\n",
    "print(f\"Test loss: {score[0]:.3f}\")\n",
    "print(f\"Test Accuracy: {score[1]:.3f}\")"
   ]
  },
  {
   "cell_type": "code",
   "execution_count": 41,
   "metadata": {},
   "outputs": [],
   "source": [
    "import matplotlib.pyplot as plt\n",
    "import pandas as pd \n",
    "plt.style.use('dark_background')"
   ]
  },
  {
   "cell_type": "code",
   "execution_count": 42,
   "metadata": {},
   "outputs": [
    {
     "data": {
      "text/plain": [
       "Text(0, 0.5, 'loss')"
      ]
     },
     "execution_count": 42,
     "metadata": {},
     "output_type": "execute_result"
    },
    {
     "data": {
      "image/png": "[encoded data removed]",
      "text/plain": [
       "<Figure size 432x288 with 2 Axes>"
      ]
     },
     "metadata": {},
     "output_type": "display_data"
    }
   ],
   "source": [
    "df = pd.DataFrame(history_callback.history)\n",
    "df[['accuracy', 'val_accuracy']].plot()\n",
    "plt.ylabel(\"accuracy\")\n",
    "df[['loss', 'val_loss']].plot(linestyle='--', ax=plt.twinx())\n",
    "plt.ylabel(\"loss\")"
   ]
  },
  {
   "cell_type": "markdown",
   "metadata": {},
   "source": [
    "# Let's compare the result with a CNN model:"
   ]
  },
  {
   "cell_type": "code",
   "execution_count": 43,
   "metadata": {},
   "outputs": [],
   "source": [
    "data = loadmat(os.path.join('Data', r'C:\\Users\\Behnam\\Downloads\\Python\\Datasets\\ML_HW5\\ex5data1.mat'))\n",
    "X = data['X']\n",
    "y = data['y']\n",
    "y = np.where(y==10, 0, y)"
   ]
  },
  {
   "cell_type": "code",
   "execution_count": 44,
   "metadata": {},
   "outputs": [
    {
     "data": {
      "text/plain": [
       "(5000, 400)"
      ]
     },
     "execution_count": 44,
     "metadata": {},
     "output_type": "execute_result"
    }
   ],
   "source": [
    "X.shape"
   ]
  },
  {
   "cell_type": "code",
   "execution_count": 45,
   "metadata": {},
   "outputs": [],
   "source": [
    "X= X.reshape(5000, 20, 20, 1)"
   ]
  },
  {
   "cell_type": "code",
   "execution_count": 46,
   "metadata": {},
   "outputs": [
    {
     "data": {
      "text/plain": [
       "(5000, 1)"
      ]
     },
     "execution_count": 46,
     "metadata": {},
     "output_type": "execute_result"
    }
   ],
   "source": [
    "y.shape"
   ]
  },
  {
   "cell_type": "code",
   "execution_count": 47,
   "metadata": {},
   "outputs": [
    {
     "data": {
      "text/plain": [
       "(5000, 10)"
      ]
     },
     "execution_count": 47,
     "metadata": {},
     "output_type": "execute_result"
    }
   ],
   "source": [
    "y = keras.utils.to_categorical(y, num_classes=10)\n",
    "y.shape"
   ]
  },
  {
   "cell_type": "code",
   "execution_count": 48,
   "metadata": {},
   "outputs": [],
   "source": [
    "X_train, X_test, y_train, y_test = train_test_split(X, y, stratify = y, test_size=0.2 )"
   ]
  },
  {
   "cell_type": "code",
   "execution_count": 49,
   "metadata": {},
   "outputs": [
    {
     "data": {
      "text/plain": [
       "((4000, 20, 20, 1), (4000, 10))"
      ]
     },
     "execution_count": 49,
     "metadata": {},
     "output_type": "execute_result"
    }
   ],
   "source": [
    "X_train.shape , y_train.shape"
   ]
  },
  {
   "cell_type": "code",
   "execution_count": 50,
   "metadata": {},
   "outputs": [],
   "source": [
    "from keras.models import Sequential\n",
    "from keras.layers import Convolution2D, MaxPool2D, Flatten, Dense\n",
    "\n",
    "cnn = Sequential([\n",
    "    Convolution2D(filters = 128, kernel_size=(3,3), activation='relu', input_shape =(20, 20, 1)),\n",
    "    MaxPool2D(pool_size=(2, 2)),\n",
    "    Convolution2D(filters = 256, kernel_size=(3,3), activation='relu'),\n",
    "    MaxPool2D(pool_size=(2, 2)),\n",
    "    Flatten(),\n",
    "    Dense(10,  activation='softmax')\n",
    "])"
   ]
  },
  {
   "cell_type": "code",
   "execution_count": 51,
   "metadata": {},
   "outputs": [],
   "source": [
    "cnn.compile(optimizer='Adam', loss = 'categorical_crossentropy', metrics=['accuracy'] )"
   ]
  },
  {
   "cell_type": "code",
   "execution_count": 52,
   "metadata": {},
   "outputs": [
    {
     "name": "stdout",
     "output_type": "stream",
     "text": [
      "Train on 3600 samples, validate on 400 samples\n",
      "Epoch 1/30\n",
      "3600/3600 [==============================] - 3s 963us/step - loss: 1.2972 - accuracy: 0.6658 - val_loss: 0.4501 - val_accuracy: 0.8675\n",
      "Epoch 2/30\n",
      "3600/3600 [==============================] - 1s 185us/step - loss: 0.3452 - accuracy: 0.8944 - val_loss: 0.2722 - val_accuracy: 0.9175\n",
      "Epoch 3/30\n",
      "3600/3600 [==============================] - 1s 208us/step - loss: 0.2296 - accuracy: 0.9333 - val_loss: 0.2625 - val_accuracy: 0.9225\n",
      "Epoch 4/30\n",
      "3600/3600 [==============================] - 1s 186us/step - loss: 0.1699 - accuracy: 0.9519 - val_loss: 0.1752 - val_accuracy: 0.9400\n",
      "Epoch 5/30\n",
      "3600/3600 [==============================] - 1s 190us/step - loss: 0.1260 - accuracy: 0.9650 - val_loss: 0.1617 - val_accuracy: 0.9450\n",
      "Epoch 6/30\n",
      "3600/3600 [==============================] - 1s 191us/step - loss: 0.1083 - accuracy: 0.9706 - val_loss: 0.1653 - val_accuracy: 0.9500\n",
      "Epoch 7/30\n",
      "3600/3600 [==============================] - 1s 191us/step - loss: 0.0850 - accuracy: 0.9767 - val_loss: 0.1693 - val_accuracy: 0.9525\n",
      "Epoch 8/30\n",
      "3600/3600 [==============================] - 1s 183us/step - loss: 0.0822 - accuracy: 0.9767 - val_loss: 0.1381 - val_accuracy: 0.9600\n",
      "Epoch 9/30\n",
      "3600/3600 [==============================] - 1s 187us/step - loss: 0.0586 - accuracy: 0.9861 - val_loss: 0.1330 - val_accuracy: 0.9600\n",
      "Epoch 10/30\n",
      "3600/3600 [==============================] - 1s 186us/step - loss: 0.0531 - accuracy: 0.9856 - val_loss: 0.1286 - val_accuracy: 0.9500\n",
      "Epoch 11/30\n",
      "3600/3600 [==============================] - 1s 187us/step - loss: 0.0435 - accuracy: 0.9892 - val_loss: 0.1778 - val_accuracy: 0.9550\n",
      "Epoch 12/30\n",
      "3600/3600 [==============================] - 1s 212us/step - loss: 0.0397 - accuracy: 0.9889 - val_loss: 0.1234 - val_accuracy: 0.9650\n",
      "Epoch 13/30\n",
      "3600/3600 [==============================] - 1s 208us/step - loss: 0.0384 - accuracy: 0.9908 - val_loss: 0.1200 - val_accuracy: 0.9675\n",
      "Epoch 14/30\n",
      "3600/3600 [==============================] - 1s 183us/step - loss: 0.0312 - accuracy: 0.9914 - val_loss: 0.1311 - val_accuracy: 0.9625\n",
      "Epoch 15/30\n",
      "3600/3600 [==============================] - 1s 183us/step - loss: 0.0543 - accuracy: 0.9842 - val_loss: 0.1403 - val_accuracy: 0.9600\n",
      "Epoch 16/30\n",
      "3600/3600 [==============================] - 1s 183us/step - loss: 0.0266 - accuracy: 0.9944 - val_loss: 0.1043 - val_accuracy: 0.9750\n",
      "Epoch 17/30\n",
      "3600/3600 [==============================] - 1s 181us/step - loss: 0.0196 - accuracy: 0.9964 - val_loss: 0.1197 - val_accuracy: 0.9700\n",
      "Epoch 18/30\n",
      "3600/3600 [==============================] - 1s 185us/step - loss: 0.0148 - accuracy: 0.9978 - val_loss: 0.1231 - val_accuracy: 0.9725\n",
      "Epoch 19/30\n",
      "3600/3600 [==============================] - 1s 182us/step - loss: 0.0139 - accuracy: 0.9972 - val_loss: 0.1000 - val_accuracy: 0.9775\n",
      "Epoch 20/30\n",
      "3600/3600 [==============================] - 1s 183us/step - loss: 0.0091 - accuracy: 0.9989 - val_loss: 0.1085 - val_accuracy: 0.9750\n",
      "Epoch 21/30\n",
      "3600/3600 [==============================] - 1s 181us/step - loss: 0.0167 - accuracy: 0.9950 - val_loss: 0.1189 - val_accuracy: 0.9650\n",
      "Epoch 22/30\n",
      "3600/3600 [==============================] - 1s 184us/step - loss: 0.0099 - accuracy: 0.9986 - val_loss: 0.1326 - val_accuracy: 0.9700\n",
      "Epoch 23/30\n",
      "3600/3600 [==============================] - 1s 185us/step - loss: 0.0071 - accuracy: 0.9992 - val_loss: 0.1138 - val_accuracy: 0.9725\n",
      "Epoch 24/30\n",
      "3600/3600 [==============================] - 1s 189us/step - loss: 0.0042 - accuracy: 0.9997 - val_loss: 0.1121 - val_accuracy: 0.9750\n",
      "Epoch 25/30\n",
      "3600/3600 [==============================] - 1s 184us/step - loss: 0.0035 - accuracy: 1.0000 - val_loss: 0.1182 - val_accuracy: 0.9725\n",
      "Epoch 26/30\n",
      "3600/3600 [==============================] - 1s 180us/step - loss: 0.0029 - accuracy: 1.0000 - val_loss: 0.1279 - val_accuracy: 0.9725\n",
      "Epoch 27/30\n",
      "3600/3600 [==============================] - 1s 185us/step - loss: 0.0031 - accuracy: 1.0000 - val_loss: 0.1287 - val_accuracy: 0.9675\n",
      "Epoch 28/30\n",
      "3600/3600 [==============================] - 1s 184us/step - loss: 0.0025 - accuracy: 1.0000 - val_loss: 0.1239 - val_accuracy: 0.9725\n",
      "Epoch 29/30\n",
      "3600/3600 [==============================] - 1s 180us/step - loss: 0.0023 - accuracy: 1.0000 - val_loss: 0.1271 - val_accuracy: 0.9750\n",
      "Epoch 30/30\n",
      "3600/3600 [==============================] - 1s 183us/step - loss: 0.0054 - accuracy: 0.9992 - val_loss: 0.1240 - val_accuracy: 0.9725\n"
     ]
    }
   ],
   "source": [
    "history_callback_cnn = cnn.fit(X_train, y_train, batch_size=128, epochs=30, validation_split=0.1 )"
   ]
  },
  {
   "cell_type": "code",
   "execution_count": 53,
   "metadata": {},
   "outputs": [
    {
     "name": "stdout",
     "output_type": "stream",
     "text": [
      "Model: \"sequential_2\"\n",
      "_________________________________________________________________\n",
      "Layer (type)                 Output Shape              Param #   \n",
      "=================================================================\n",
      "conv2d_1 (Conv2D)            (None, 18, 18, 128)       1280      \n",
      "_________________________________________________________________\n",
      "max_pooling2d_1 (MaxPooling2 (None, 9, 9, 128)         0         \n",
      "_________________________________________________________________\n",
      "conv2d_2 (Conv2D)            (None, 7, 7, 256)         295168    \n",
      "_________________________________________________________________\n",
      "max_pooling2d_2 (MaxPooling2 (None, 3, 3, 256)         0         \n",
      "_________________________________________________________________\n",
      "flatten_1 (Flatten)          (None, 2304)              0         \n",
      "_________________________________________________________________\n",
      "dense_4 (Dense)              (None, 10)                23050     \n",
      "=================================================================\n",
      "Total params: 319,498\n",
      "Trainable params: 319,498\n",
      "Non-trainable params: 0\n",
      "_________________________________________________________________\n"
     ]
    }
   ],
   "source": [
    "cnn.summary()"
   ]
  },
  {
   "cell_type": "code",
   "execution_count": 54,
   "metadata": {},
   "outputs": [
    {
     "name": "stdout",
     "output_type": "stream",
     "text": [
      "1000/1000 [==============================] - 0s 308us/step\n",
      "Test loss: 0.090\n",
      "Test Accuracy: 0.976\n"
     ]
    }
   ],
   "source": [
    "score = cnn.evaluate(X_test, y_test)\n",
    "print(f\"Test loss: {score[0]:.3f}\")\n",
    "print(f\"Test Accuracy: {score[1]:.3f}\")"
   ]
  },
  {
   "cell_type": "markdown",
   "metadata": {},
   "source": [
    "### As you can see CNN has a higher accuracy than DNN"
   ]
  },
  {
   "cell_type": "code",
   "execution_count": 55,
   "metadata": {},
   "outputs": [
    {
     "data": {
      "text/plain": [
       "Text(0, 0.5, 'loss')"
      ]
     },
     "execution_count": 55,
     "metadata": {},
     "output_type": "execute_result"
    },
    {
     "data": {
      "image/png": "[encoded data removed]",
      "text/plain": [
       "<Figure size 432x288 with 2 Axes>"
      ]
     },
     "metadata": {},
     "output_type": "display_data"
    }
   ],
   "source": [
    "df = pd.DataFrame(history_callback_cnn.history)\n",
    "df[['accuracy', 'val_accuracy']].plot()\n",
    "plt.ylabel(\"accuracy\")\n",
    "df[['loss', 'val_loss']].plot(linestyle='--', ax=plt.twinx())\n",
    "plt.ylabel(\"loss\")"
   ]
  },
  {
   "cell_type": "code",
   "execution_count": 56,
   "metadata": {},
   "outputs": [
    {
     "data": {
      "text/plain": [
       "(1000, 20, 20, 1)"
      ]
     },
     "execution_count": 56,
     "metadata": {},
     "output_type": "execute_result"
    }
   ],
   "source": [
    "X_test.shape"
   ]
  },
  {
   "cell_type": "markdown",
   "metadata": {},
   "source": [
    "## Locating the Incorrect Predictions"
   ]
  },
  {
   "cell_type": "markdown",
   "metadata": {},
   "source": [
    "### 1st we need to reshape the images from `(10000, 20, 20, 1)` to `(10000, 20, 20)`"
   ]
  },
  {
   "cell_type": "code",
   "execution_count": 57,
   "metadata": {},
   "outputs": [],
   "source": [
    "images = X_test.reshape((-1, 20, 20))"
   ]
  },
  {
   "cell_type": "code",
   "execution_count": 58,
   "metadata": {},
   "outputs": [],
   "source": [
    "predictions = cnn.predict(X_test)\n",
    "incorrect_predictions = []\n",
    "\n",
    "for i, (p, e) in enumerate(zip(predictions, y_test)):\n",
    "    predicted, expected = np.argmax(p), np.argmax(e)\n",
    "    \n",
    "    if predicted != expected:\n",
    "        incorrect_predictions.append((i, images[i], predicted, expected))\n"
   ]
  },
  {
   "cell_type": "code",
   "execution_count": 59,
   "metadata": {},
   "outputs": [
    {
     "data": {
      "text/plain": [
       "24"
      ]
     },
     "execution_count": 59,
     "metadata": {},
     "output_type": "execute_result"
    }
   ],
   "source": [
    "len(incorrect_predictions)"
   ]
  },
  {
   "cell_type": "markdown",
   "metadata": {},
   "source": [
    "### Now you can see the number of incorrect predictions"
   ]
  },
  {
   "cell_type": "markdown",
   "metadata": {},
   "source": [
    "## Visualizing Incorrect Predictions"
   ]
  },
  {
   "cell_type": "code",
   "execution_count": 60,
   "metadata": {},
   "outputs": [],
   "source": [
    "# enable high-res images in notebook \n",
    "%config InlineBackend.figure_format = 'retina'"
   ]
  },
  {
   "cell_type": "code",
   "execution_count": 61,
   "metadata": {},
   "outputs": [],
   "source": [
    "import matplotlib.pyplot as plt\n",
    "plt.style.use('dark_background')"
   ]
  },
  {
   "cell_type": "code",
   "execution_count": 62,
   "metadata": {},
   "outputs": [
    {
     "data": {
      "image/png": "[encoded data removed]",
      "text/plain": [
       "<Figure size 1152x864 with 24 Axes>"
      ]
     },
     "metadata": {
      "image/png": {
       "height": 860,
       "width": 1144
      }
     },
     "output_type": "display_data"
    }
   ],
   "source": [
    "figure, axes = plt.subplots(nrows=4, ncols=6, figsize=(16, 12))\n",
    "\n",
    "for axes, item in zip(axes.ravel(), incorrect_predictions):\n",
    "    index, image, predicted, expected = item\n",
    "    axes.imshow(image, cmap=plt.cm.gray_r)\n",
    "    axes.set_xticks([])  # remove x-axis tick marks\n",
    "    axes.set_yticks([])  # remove y-axis tick marks\n",
    "    axes.set_title(f'index: {index}\\np: {predicted}; e: {expected}')\n",
    "plt.tight_layout()"
   ]
  },
  {
   "cell_type": "code",
   "execution_count": null,
   "metadata": {},
   "outputs": [],
   "source": []
  }
 ],
 "metadata": {
  "kernelspec": {
   "display_name": "Python 3",
   "language": "python",
   "name": "python3"
  },
  "language_info": {
   "codemirror_mode": {
    "name": "ipython",
    "version": 3
   },
   "file_extension": ".py",
   "mimetype": "text/x-python",
   "name": "python",
   "nbconvert_exporter": "python",
   "pygments_lexer": "ipython3",
   "version": "3.7.4"
  }
 },
 "nbformat": 4,
 "nbformat_minor": 2
}
